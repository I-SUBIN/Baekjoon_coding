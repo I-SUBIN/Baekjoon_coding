{
 "cells": [
  {
   "cell_type": "markdown",
   "metadata": {},
   "source": [
    "### 1463\n",
    "문제\\\n",
    "정수 X에 사용할 수 있는 연산은 다음과 같이 세 가지 이다.\n",
    "\n",
    "1. X가 3으로 나누어 떨어지면, 3으로 나눈다.\n",
    "2. X가 2로 나누어 떨어지면, 2로 나눈다.\n",
    "3. 1을 뺀다.\n",
    "\n",
    "정수 N이 주어졌을 때, 위와 같은 연산 세 개를 적절히 사용해서 1을 만들려고 한다. 연산을 사용하는 횟수의 최솟값을 출력하시오.\n",
    "\n",
    "입력\\\n",
    "첫째 줄에 1보다 크거나 같고, 106보다 작거나 같은 정수 N이 주어진다.\n",
    "\n",
    "출력\\\n",
    "첫째 줄에 연산을 하는 횟수의 최솟값을 출력한다."
   ]
  },
  {
   "cell_type": "code",
   "execution_count": 54,
   "metadata": {},
   "outputs": [
    {
     "name": "stdout",
     "output_type": "stream",
     "text": [
      "10\n",
      "3\n"
     ]
    }
   ],
   "source": [
    "x=int(input())\n",
    "n=0\n",
    "lis=[]\n",
    "n_lis=[]\n",
    "lis.append(x)\n",
    "n_lis=lis\n",
    "while True:\n",
    "    if 1 in lis:\n",
    "        print(n)\n",
    "        break\n",
    "    elif 1 not in lis:\n",
    "        lis=[]\n",
    "        n+=1\n",
    "        for i in n_lis:\n",
    "            if i%3==0:\n",
    "                lis.append(i/3)\n",
    "            if i%2==0:\n",
    "                lis.append(i/2)\n",
    "            lis.append(i-1)\n",
    "            n_lis=lis"
   ]
  },
  {
   "cell_type": "markdown",
   "metadata": {},
   "source": [
    "### 11726\n",
    "문제\\\n",
    "2×n 크기의 직사각형을 1×2, 2×1 타일로 채우는 방법의 수를 구하는 프로그램을 작성하시오.\n",
    "\n",
    "입력\\\n",
    "첫째 줄에 n이 주어진다. (1 ≤ n ≤ 1,000)\n",
    "\n",
    "출력\\\n",
    "첫째 줄에 2×n 크기의 직사각형을 채우는 방법의 수를 10,007로 나눈 나머지를 출력한다."
   ]
  },
  {
   "cell_type": "code",
   "execution_count": 81,
   "metadata": {},
   "outputs": [
    {
     "name": "stdout",
     "output_type": "stream",
     "text": [
      "9\n",
      "55\n"
     ]
    }
   ],
   "source": [
    "n=int(input())\n",
    "num=[1,2]\n",
    "for i in range(2,n+1):\n",
    "    N=num[i-1]+num[i-2]\n",
    "    num.append(N)\n",
    "print(num[n-1]%10007)"
   ]
  },
  {
   "cell_type": "markdown",
   "metadata": {},
   "source": [
    "### 11727\n",
    "문제\\\n",
    "2×n 직사각형을 1×2, 2×1과 2×2 타일로 채우는 방법의 수를 구하는 프로그램을 작성하시오.\n",
    "\n",
    "입력\\\n",
    "첫째 줄에 n이 주어진다. (1 ≤ n ≤ 1,000)\n",
    "\n",
    "출력\\\n",
    "첫째 줄에 2×n 크기의 직사각형을 채우는 방법의 수를 10,007로 나눈 나머지를 출력한다"
   ]
  },
  {
   "cell_type": "code",
   "execution_count": 84,
   "metadata": {},
   "outputs": [
    {
     "name": "stdout",
     "output_type": "stream",
     "text": [
      "8\n",
      "171\n"
     ]
    }
   ],
   "source": [
    "n=int(input())\n",
    "num=[1,3]\n",
    "for i in range(2,n+1):\n",
    "    N=num[i-1]+2*(num[i-2])\n",
    "    num.append(N)\n",
    "print(num[n-1]%10007)"
   ]
  },
  {
   "cell_type": "markdown",
   "metadata": {},
   "source": [
    "### 9095\n",
    "문제\\\n",
    "정수 4를 1, 2, 3의 합으로 나타내는 방법은 총 7가지가 있다. 합을 나타낼 때는 수를 1개 이상 사용해야 한다.\n",
    "\n",
    "1+1+1+1\\\n",
    "1+1+2\\\n",
    "1+2+1\\\n",
    "2+1+1\\\n",
    "2+2\\\n",
    "1+3\\\n",
    "3+1\\\n",
    "정수 n이 주어졌을 때, n을 1, 2, 3의 합으로 나타내는 방법의 수를 구하는 프로그램을 작성하시오.\n",
    "\n",
    "입력\\\n",
    "첫째 줄에 테스트 케이스의 개수 T가 주어진다. 각 테스트 케이스는 한 줄로 이루어져 있고, 정수 n이 주어진다. n은 양수이며 11보다 작다.\n",
    "\n",
    "출력\\\n",
    "각 테스트 케이스마다, n을 1, 2, 3의 합으로 나타내는 방법의 수를 출력한다.\n",
    "\n"
   ]
  },
  {
   "cell_type": "code",
   "execution_count": 104,
   "metadata": {},
   "outputs": [
    {
     "name": "stdout",
     "output_type": "stream",
     "text": [
      "3\n",
      "4\n",
      "7\n",
      "10\n",
      "7\n",
      "44\n",
      "274\n"
     ]
    }
   ],
   "source": [
    "T=int(input())\n",
    "num_list=[]\n",
    "for i in range(T):\n",
    "    num_list.append(int(input()))\n",
    "dp=[1,2,4]\n",
    "for i in range(3,11):\n",
    "    N=dp[i-1]+dp[i-2]+dp[i-3]\n",
    "    dp.append(N)\n",
    "print(dp[num_list[0]-1])\n",
    "print(dp[num_list[1]-1])\n",
    "print(dp[num_list[2]-1])"
   ]
  },
  {
   "cell_type": "markdown",
   "metadata": {},
   "source": [
    "###  10844\n",
    "문제\\\n",
    "45656이란 수를 보자.\n",
    "\n",
    "이 수는 인접한 모든 자리수의 차이가 1이 난다. 이런 수를 계단 수라고 한다.\n",
    "\n",
    "세준이는 수의 길이가 N인 계단 수가 몇 개 있는지 궁금해졌다.\n",
    "\n",
    "N이 주어질 때, 길이가 N인 계단 수가 총 몇 개 있는지 구하는 프로그램을 작성하시오. (0으로 시작하는 수는 없다.)\n",
    "\n",
    "입력\\\n",
    "첫째 줄에 N이 주어진다. N은 1보다 크거나 같고, 100보다 작거나 같은 자연수이다.\n",
    "\n",
    "출력\\\n",
    "첫째 줄에 정답을 1,000,000,000으로 나눈 나머지를 출력한다."
   ]
  },
  {
   "cell_type": "code",
   "execution_count": 170,
   "metadata": {},
   "outputs": [
    {
     "name": "stdout",
     "output_type": "stream",
     "text": [
      "2\n",
      "17\n"
     ]
    }
   ],
   "source": [
    "#코드는 잘 실행됨-> 용량이 커서 틀림\n",
    "n=int(input())\n",
    "list=[1,2,3,4,5,6,7,8,9]\n",
    "n_list=[]\n",
    "for t in range(n-1):\n",
    "    for i in list:\n",
    "        if i==0:\n",
    "            n_list.append(i+1)\n",
    "        elif i==9:\n",
    "            n_list.append(i-1)\n",
    "        else:\n",
    "            n_list.append(i-1)\n",
    "            n_list.append(i+1)\n",
    "    list=n_list\n",
    "    n_list=[]\n",
    "print(len(list)%1000000000)"
   ]
  },
  {
   "cell_type": "code",
   "execution_count": 196,
   "metadata": {},
   "outputs": [
    {
     "name": "stdout",
     "output_type": "stream",
     "text": [
      "2\n",
      "17\n"
     ]
    }
   ],
   "source": [
    "n=int(input())\n",
    "dp = [[1] * 10 for _ in range(n+1)]\n",
    "n_list=[]\n",
    "dp[1][0]=0\n",
    "for i in range(2,n+1):\n",
    "    for j in range(0,10):\n",
    "        if j==0:\n",
    "            dp[i][j]=dp[i-1][j+1]\n",
    "        elif j==9:\n",
    "            dp[i][j]=dp[i-1][j-1]\n",
    "        else:\n",
    "            dp[i][j]=dp[i-1][j-1]+dp[i-1][j+1]\n",
    "print(sum(dp[n])%1000000000)"
   ]
  },
  {
   "cell_type": "markdown",
   "metadata": {},
   "source": [
    "### 11057\n",
    "문제\\\n",
    "오르막 수는 수의 자리가 오름차순을 이루는 수를 말한다. 이때, 인접한 수가 같아도 오름차순으로 친다.\n",
    "\n",
    "예를 들어, 2234와 3678, 11119는 오르막 수이지만, 2232, 3676, 91111은 오르막 수가 아니다.\n",
    "\n",
    "수의 길이 N이 주어졌을 때, 오르막 수의 개수를 구하는 프로그램을 작성하시오. 수는 0으로 시작할 수 있다.\n",
    "\n",
    "입력\\\n",
    "첫째 줄에 N (1 ≤ N ≤ 1,000)이 주어진다.\n",
    "\n",
    "출력\\\n",
    "첫째 줄에 길이가 N인 오르막 수의 개수를 10,007로 나눈 나머지를 출력한다."
   ]
  },
  {
   "cell_type": "code",
   "execution_count": 228,
   "metadata": {},
   "outputs": [
    {
     "name": "stdout",
     "output_type": "stream",
     "text": [
      "4\n",
      "715\n"
     ]
    }
   ],
   "source": [
    "n=int(input())\n",
    "dp = [[1] * 10 for _ in range(n+1)]\n",
    "for i in range(2,n+1):\n",
    "    for j in range(0,10):\n",
    "        dp[i][j]=sum(dp[i-1][j:])\n",
    "print(sum(dp[n])%10007)"
   ]
  },
  {
   "cell_type": "markdown",
   "metadata": {},
   "source": [
    "### 2193\n",
    "문제\\\n",
    "0과 1로만 이루어진 수를 이진수라 한다. 이러한 이진수 중 특별한 성질을 갖는 것들이 있는데, 이들을 이친수(pinary number)라 한다. 이친수는 다음의 성질을 만족한다.\n",
    "\n",
    "1.이친수는 0으로 시작하지 않는다.\\\n",
    "2.이친수에서는 1이 두 번 연속으로 나타나지 않는다. 즉, 11을 부분 문자열로 갖지 않는다.\\\n",
    "예를 들면 1, 10, 100, 101, 1000, 1001 등이 이친수가 된다. 하지만 0010101이나 101101은 각각 1, 2번 규칙에 위배되므로 이친수가 아니다.\n",
    "\n",
    "N(1 ≤ N ≤ 90)이 주어졌을 때, N자리 이친수의 개수를 구하는 프로그램을 작성하시오.\n",
    "\n",
    "입력\\\n",
    "첫째 줄에 N이 주어진다.\n",
    "\n",
    "출력\\\n",
    "첫째 줄에 N자리 이친수의 개수를 출력한다."
   ]
  },
  {
   "cell_type": "code",
   "execution_count": 272,
   "metadata": {},
   "outputs": [
    {
     "name": "stdout",
     "output_type": "stream",
     "text": [
      "5\n",
      "5\n"
     ]
    }
   ],
   "source": [
    "n=int(input())\n",
    "num=[1,1]\n",
    "for i in range(2,n+1):\n",
    "    N=num[i-1]+num[i-2]\n",
    "    num.append(N)\n",
    "print(num[n-1])"
   ]
  },
  {
   "cell_type": "markdown",
   "metadata": {},
   "source": [
    "### 9465--> 못풀겠다.\n",
    "문제\\\n",
    "상근이의 여동생 상냥이는 문방구에서 스티커 2n개를 구매했다. 스티커는 그림 (a)와 같이 2행 n열로 배치되어 있다. 상냥이는 스티커를 이용해 책상을 꾸미려고 한다.\n",
    "\n",
    "상냥이가 구매한 스티커의 품질은 매우 좋지 않다. 스티커 한 장을 떼면, 그 스티커와 변을 공유하는 스티커는 모두 찢어져서 사용할 수 없게 된다. 즉, 뗀 스티커의 왼쪽, 오른쪽, 위, 아래에 있는 스티커는 사용할 수 없게 된다.\n",
    "\n",
    "모든 스티커를 붙일 수 없게된 상냥이는 각 스티커에 점수를 매기고, 점수의 합이 최대가 되게 스티커를 떼어내려고 한다. 먼저, 그림 (b)와 같이 각 스티커에 점수를 매겼다. 상냥이가 뗄 수 있는 스티커의 점수의 최댓값을 구하는 프로그램을 작성하시오. 즉, 2n개의 스티커 중에서 점수의 합이 최대가 되면서 서로 변을 공유 하지 않는 스티커 집합을 구해야 한다.\n",
    "\n",
    "위의 그림의 경우에 점수가 50, 50, 100, 60인 스티커를 고르면, 점수는 260이 되고 이 것이 최대 점수이다. 가장 높은 점수를 가지는 두 스티커 (100과 70)은 변을 공유하기 때문에, 동시에 뗄 수 없다.\n",
    "\n",
    "입력\\\n",
    "첫째 줄에 테스트 케이스의 개수 T가 주어진다. 각 테스트 케이스의 첫째 줄에는 n (1 ≤ n ≤ 100,000)이 주어진다. 다음 두 줄에는 n개의 정수가 주어지며, 각 정수는 그 위치에 해당하는 스티커의 점수이다. 연속하는 두 정수 사이에는 빈 칸이 하나 있다. 점수는 0보다 크거나 같고, 100보다 작거나 같은 정수이다. \n",
    "\n",
    "출력\\\n",
    "각 테스트 케이스 마다, 2n개의 스티커 중에서 두 변을 공유하지 않는 스티커 점수의 최댓값을 출력한다."
   ]
  },
  {
   "cell_type": "code",
   "execution_count": 62,
   "metadata": {},
   "outputs": [
    {
     "name": "stdout",
     "output_type": "stream",
     "text": [
      "2\n",
      "5\n",
      "50 10 100 20 40\n",
      "30 50 70 10 60\n",
      "[[50, 10, 100, 20, 40], [30, 50, 70, 10, 60]]\n",
      "[[50, 40, 100, 20, 40], [30, 100, 70, 10, 60]]\n",
      "260\n",
      "7\n",
      "10 30 10 50 100 20 40\n",
      "20 40 30 50 60 20 80\n",
      "[[10, 30, 10, 50, 100, 20, 40], [20, 40, 30, 50, 60, 20, 80]]\n",
      "[[10, 50, 10, 50, 100, 20, 40], [20, 50, 30, 50, 60, 20, 80]]\n",
      "290\n"
     ]
    }
   ],
   "source": [
    "t=int(input())\n",
    "for i in range(t):\n",
    "    n=int(input()) \n",
    "    a=[]\n",
    "    for p in range(2):\n",
    "        score = []              \n",
    "        score=list(map(int, input().split()))     \n",
    "        a.append(score)\n",
    "    a[0][1]+=a[1][0]\n",
    "    a[1][1]+=a[0][0]\n",
    "    for k in range(2,n):\n",
    "        a[0][k]+=max(a[1][k-1],a[1][k-2])\n",
    "        a[1][k]+=max(a[0][k-1],a[0][k-2])\n",
    "    print(max(a[0][n-1],a[1][n-1]))"
   ]
  },
  {
   "cell_type": "markdown",
   "metadata": {},
   "source": [
    "### 2156\n",
    "문제\\\n",
    "효주는 포도주 시식회에 갔다. 그 곳에 갔더니, 테이블 위에 다양한 포도주가 들어있는 포도주 잔이 일렬로 놓여 있었다. 효주는 포도주 시식을 하려고 하는데, 여기에는 다음과 같은 두 가지 규칙이 있다.\n",
    "\n",
    "포도주 잔을 선택하면 그 잔에 들어있는 포도주는 모두 마셔야 하고, 마신 후에는 원래 위치에 다시 놓아야 한다.\n",
    "연속으로 놓여 있는 3잔을 모두 마실 수는 없다.\n",
    "효주는 될 수 있는 대로 많은 양의 포도주를 맛보기 위해서 어떤 포도주 잔을 선택해야 할지 고민하고 있다. 1부터 n까지의 번호가 붙어 있는 n개의 포도주 잔이 순서대로 테이블 위에 놓여 있고, 각 포도주 잔에 들어있는 포도주의 양이 주어졌을 때, 효주를 도와 가장 많은 양의 포도주를 마실 수 있도록 하는 프로그램을 작성하시오. \n",
    "\n",
    "예를 들어 6개의 포도주 잔이 있고, 각각의 잔에 순서대로 6, 10, 13, 9, 8, 1 만큼의 포도주가 들어 있을 때, 첫 번째, 두 번째, 네 번째, 다섯 번째 포도주 잔을 선택하면 총 포도주 양이 33으로 최대로 마실 수 있다.\n",
    "\n",
    "입력\\\n",
    "첫째 줄에 포도주 잔의 개수 n이 주어진다. (1≤n≤10,000) 둘째 줄부터 n+1번째 줄까지 포도주 잔에 들어있는 포도주의 양이 순서대로 주어진다. 포도주의 양은 1,000 이하의 음이 아닌 정수이다.\n",
    "\n",
    "출력\\\n",
    "첫째 줄에 최대로 마실 수 있는 포도주의 양을 출력한다."
   ]
  },
  {
   "cell_type": "code",
   "execution_count": 81,
   "metadata": {},
   "outputs": [
    {
     "name": "stdout",
     "output_type": "stream",
     "text": [
      "6\n",
      "6\n",
      "10\n",
      "13\n",
      "9\n",
      "8\n",
      "1\n",
      "33\n"
     ]
    }
   ],
   "source": [
    "t=int(input())\n",
    "wine=[]\n",
    "for i in range(t):\n",
    "    a=int(input())\n",
    "    wine.append(a)\n",
    "dp=[0]\n",
    "dp.append(wine[0])\n",
    "if t>1:\n",
    "    dp.append(wine[0]+wine[1])\n",
    "for j in range(3,t+1):\n",
    "    a=wine[j-1]+dp[j-2]\n",
    "    b=wine[j-1]+wine[j-2]+dp[j-3]\n",
    "    c=dp[j-1]\n",
    "    dp.append(max(a,b,c))\n",
    "print(dp[t])"
   ]
  },
  {
   "cell_type": "markdown",
   "metadata": {},
   "source": [
    "### 11053\n",
    "문제\\\n",
    "수열 A가 주어졌을 때, 가장 긴 증가하는 부분 수열을 구하는 프로그램을 작성하시오.\n",
    "\n",
    "예를 들어, 수열 A = {10, 20, 10, 30, 20, 50} 인 경우에 가장 긴 증가하는 부분 수열은 A = {10, 20, 10, 30, 20, 50} 이고, 길이는 4이다.\n",
    "\n",
    "입력\\\n",
    "첫째 줄에 수열 A의 크기 N (1 ≤ N ≤ 1,000)이 주어진다.\n",
    "\n",
    "둘째 줄에는 수열 A를 이루고 있는 Ai가 주어진다. (1 ≤ Ai ≤ 1,000)\n",
    "\n",
    "출력\\\n",
    "첫째 줄에 수열 A의 가장 긴 증가하는 부분 수열의 길이를 출력한다."
   ]
  },
  {
   "cell_type": "code",
   "execution_count": 88,
   "metadata": {},
   "outputs": [
    {
     "name": "stdout",
     "output_type": "stream",
     "text": [
      "6\n",
      "10 20 10 30 20 50\n",
      "4\n"
     ]
    }
   ],
   "source": [
    "n=int(input())\n",
    "dp=[1]*n\n",
    "seq=list(map(int, input().split()))\n",
    "for i in range(n):\n",
    "    for j in range(i):\n",
    "        if seq[j]<seq[i]:\n",
    "            dp[i]=max(dp[i],dp[j]+1)\n",
    "print(max(dp))"
   ]
  },
  {
   "cell_type": "code",
   "execution_count": 86,
   "metadata": {},
   "outputs": [
    {
     "ename": "NameError",
     "evalue": "name 'ones' is not defined",
     "output_type": "error",
     "traceback": [
      "\u001b[1;31m---------------------------------------------------------------------------\u001b[0m",
      "\u001b[1;31mNameError\u001b[0m                                 Traceback (most recent call last)",
      "\u001b[1;32m<ipython-input-86-eabfde237903>\u001b[0m in \u001b[0;36m<module>\u001b[1;34m\u001b[0m\n\u001b[1;32m----> 1\u001b[1;33m \u001b[0map\u001b[0m\u001b[1;33m=\u001b[0m\u001b[0mones\u001b[0m\u001b[1;33m(\u001b[0m\u001b[1;36m10\u001b[0m\u001b[1;33m)\u001b[0m\u001b[1;33m\u001b[0m\u001b[1;33m\u001b[0m\u001b[0m\n\u001b[0m",
      "\u001b[1;31mNameError\u001b[0m: name 'ones' is not defined"
     ]
    }
   ],
   "source": [
    "ap=ones(10)"
   ]
  },
  {
   "cell_type": "code",
   "execution_count": null,
   "metadata": {},
   "outputs": [],
   "source": []
  },
  {
   "cell_type": "code",
   "execution_count": null,
   "metadata": {},
   "outputs": [],
   "source": []
  }
 ],
 "metadata": {
  "kernelspec": {
   "display_name": "Python 3",
   "language": "python",
   "name": "python3"
  },
  "language_info": {
   "codemirror_mode": {
    "name": "ipython",
    "version": 3
   },
   "file_extension": ".py",
   "mimetype": "text/x-python",
   "name": "python",
   "nbconvert_exporter": "python",
   "pygments_lexer": "ipython3",
   "version": "3.8.3"
  }
 },
 "nbformat": 4,
 "nbformat_minor": 4
}
