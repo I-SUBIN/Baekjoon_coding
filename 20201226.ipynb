{
 "cells": [
  {
   "cell_type": "markdown",
   "metadata": {},
   "source": [
    "# 입출력문제\n",
    "2557, 1000, 2558, 10950, 10951, 10952, 10953, 11021, 11022, 11718, 11719, 11720, 11721, 2741, 2742"
   ]
  },
  {
   "cell_type": "markdown",
   "metadata": {},
   "source": [
    "### 2557\n",
    "문제\\\n",
    "Hello World!를 출력하시오.\n",
    "\n",
    "입력\\\n",
    "없음\n",
    "\n",
    "출력\\\n",
    "Hello World!를 출력하시오."
   ]
  },
  {
   "cell_type": "code",
   "execution_count": 1,
   "metadata": {},
   "outputs": [
    {
     "name": "stdout",
     "output_type": "stream",
     "text": [
      "Hello World!\n"
     ]
    }
   ],
   "source": [
    "print('Hello World!')"
   ]
  },
  {
   "cell_type": "markdown",
   "metadata": {},
   "source": [
    "### 1000\n",
    "문제\\\n",
    "두 정수 A와 B를 입력받은 다음, A+B를 출력하는 프로그램을 작성하시오.\n",
    "\n",
    "입력\\\n",
    "첫째 줄에 A와 B가 주어진다. (0 < A, B < 10)\n",
    "\n",
    "출력\\\n",
    "첫째 줄에 A+B를 출력한다."
   ]
  },
  {
   "cell_type": "code",
   "execution_count": 22,
   "metadata": {},
   "outputs": [
    {
     "name": "stdout",
     "output_type": "stream",
     "text": [
      "1 2\n",
      "3\n"
     ]
    }
   ],
   "source": [
    "A,B=input().split()\n",
    "A=int(A)\n",
    "B=int(B)\n",
    "if 0<A and A<10 and B>0 and B<10:\n",
    "    print(A+B)"
   ]
  },
  {
   "cell_type": "markdown",
   "metadata": {},
   "source": [
    "### 2558\n",
    "\n",
    "문제\\\n",
    "두 정수 A와 B를 입력받은 다음, A+B를 출력하는 프로그램을 작성하시오.\n",
    "\n",
    "입력\\\n",
    "첫째 줄에 A, 둘째 줄에 B가 주어진다. (0 < A, B < 10)\n",
    "\n",
    "출력\\\n",
    "첫째 줄에 A+B를 출력한다."
   ]
  },
  {
   "cell_type": "code",
   "execution_count": 25,
   "metadata": {},
   "outputs": [
    {
     "name": "stdout",
     "output_type": "stream",
     "text": [
      "1\n",
      "2\n",
      "3\n"
     ]
    }
   ],
   "source": [
    "A=int(input())\n",
    "B=int(input())\n",
    "if 0<A and A<10 and B>0 and B<10:\n",
    "    print(A+B)"
   ]
  },
  {
   "cell_type": "markdown",
   "metadata": {},
   "source": [
    "### 10950\n",
    "\n",
    "문제\\\n",
    "두 정수 A와 B를 입력받은 다음, A+B를 출력하는 프로그램을 작성하시오.\n",
    "\n",
    "입력\\\n",
    "첫째 줄에 테스트 케이스의 개수 T가 주어진다.\n",
    "\n",
    "각 테스트 케이스는 한 줄로 이루어져 있으며, 각 줄에 A와 B가 주어진다. (0 < A, B < 10)\n",
    "\n",
    "출력\\\n",
    "각 테스트 케이스마다 A+B를 출력한다."
   ]
  },
  {
   "cell_type": "code",
   "execution_count": 27,
   "metadata": {},
   "outputs": [
    {
     "name": "stdout",
     "output_type": "stream",
     "text": [
      "5\n",
      "1 1\n",
      "2\n",
      "2 3\n",
      "5\n",
      "3 4\n",
      "7\n",
      "9 8\n",
      "17\n",
      "5 2\n",
      "7\n"
     ]
    }
   ],
   "source": [
    "T=int(input())\n",
    "for i in range(T):\n",
    "    A,B=input().split()\n",
    "    A=int(A)\n",
    "    B=int(B)\n",
    "    if 0<A and A<10 and B>0 and B<10:\n",
    "        print(A+B)  "
   ]
  },
  {
   "cell_type": "markdown",
   "metadata": {},
   "source": [
    "### 10951\n",
    "\n",
    "문제\\\n",
    "두 정수 A와 B를 입력받은 다음, A+B를 출력하는 프로그램을 작성하시오.\n",
    "\n",
    "입력\\\n",
    "입력은 여러 개의 테스트 케이스로 이루어져 있다.\n",
    "\n",
    "각 테스트 케이스는 한 줄로 이루어져 있으며, 각 줄에 A와 B가 주어진다. (0 < A, B < 10)\n",
    "\n",
    "출력\\\n",
    "각 테스트 케이스마다 A+B를 출력한다.\n"
   ]
  },
  {
   "cell_type": "code",
   "execution_count": 29,
   "metadata": {},
   "outputs": [
    {
     "name": "stdout",
     "output_type": "stream",
     "text": [
      "1 1\n",
      "2\n",
      "2 3\n",
      "5\n",
      "3 4\n",
      "7\n",
      "9 8\n",
      "17\n",
      "5 2\n",
      "7\n",
      "k\n"
     ]
    }
   ],
   "source": [
    "while True:\n",
    "    try:\n",
    "        A,B=input().split()\n",
    "        A=int(A)\n",
    "        B=int(B)\n",
    "        if 0<A and A<10 and B>0 and B<10:\n",
    "            print(A+B) \n",
    "    except:\n",
    "        break"
   ]
  },
  {
   "cell_type": "markdown",
   "metadata": {},
   "source": [
    "### 10952\n",
    "문제\\\n",
    "두 정수 A와 B를 입력받은 다음, A+B를 출력하는 프로그램을 작성하시오.\n",
    "\n",
    "입력\\\n",
    "입력은 여러 개의 테스트 케이스로 이루어져 있다.\n",
    "\n",
    "각 테스트 케이스는 한 줄로 이루어져 있으며, 각 줄에 A와 B가 주어진다. (0 < A, B < 10)\n",
    "\n",
    "입력의 마지막에는 0 두 개가 들어온다.\n",
    "\n",
    "출력\\\n",
    "각 테스트 케이스마다 A+B를 출력한다.\n",
    "\n"
   ]
  },
  {
   "cell_type": "code",
   "execution_count": 30,
   "metadata": {},
   "outputs": [
    {
     "name": "stdout",
     "output_type": "stream",
     "text": [
      "1 1\n",
      "2\n",
      "2 3\n",
      "5\n",
      "3 4\n",
      "7\n",
      "9 8\n",
      "17\n",
      "5 2\n",
      "7\n",
      "0 0\n"
     ]
    }
   ],
   "source": [
    "while True:\n",
    "    A,B=input().split()\n",
    "    A=int(A)\n",
    "    B=int(B)\n",
    "    if 0<A and A<10 and B>0 and B<10:\n",
    "        print(A+B)\n",
    "    elif A==0 and B==0:\n",
    "        break"
   ]
  },
  {
   "cell_type": "markdown",
   "metadata": {},
   "source": [
    "### 10953\n",
    "문제\\\n",
    "두 정수 A와 B를 입력받은 다음, A+B를 출력하는 프로그램을 작성하시오.\n",
    "\n",
    "입력\\\n",
    "첫째 줄에 테스트 케이스의 개수 T가 주어진다.\n",
    "\n",
    "각 테스트 케이스는 한 줄로 이루어져 있으며, 각 줄에 A와 B가 주어진다. A와 B는 콤마(,)로 구분되어 있다. (0 < A, B < 10)\n",
    "\n",
    "출력\\\n",
    "각 테스트 케이스마다 A+B를 출력한다."
   ]
  },
  {
   "cell_type": "code",
   "execution_count": 34,
   "metadata": {},
   "outputs": [
    {
     "name": "stdout",
     "output_type": "stream",
     "text": [
      "5\n",
      "1,1\n",
      "2\n",
      "2,3\n",
      "5\n",
      "3,4\n",
      "7\n",
      "9,8\n",
      "17\n",
      "5,2\n",
      "7\n"
     ]
    }
   ],
   "source": [
    "T=int(input())\n",
    "for i in range(T):\n",
    "    A,B=input().split(',')\n",
    "    A=int(A)\n",
    "    B=int(B)\n",
    "    if 0<A and A<10 and B>0 and B<10:\n",
    "        print(A+B)  "
   ]
  },
  {
   "cell_type": "markdown",
   "metadata": {},
   "source": [
    "### 11021\n",
    "문제\\\n",
    "두 정수 A와 B를 입력받은 다음, A+B를 출력하는 프로그램을 작성하시오.\n",
    "\n",
    "입력\\\n",
    "첫째 줄에 테스트 케이스의 개수 T가 주어진다.\\\n",
    "각 테스트 케이스는 한 줄로 이루어져 있으며, 각 줄에 A와 B가 주어진다. (0 < A, B < 10)\n",
    "\n",
    "출력\\\n",
    "각 테스트 케이스마다 \"Case #x: \"를 출력한 다음, A+B를 출력한다. 테스트 케이스 번호는 1부터 시작한다.\n"
   ]
  },
  {
   "cell_type": "code",
   "execution_count": 50,
   "metadata": {},
   "outputs": [
    {
     "name": "stdout",
     "output_type": "stream",
     "text": [
      "5\n",
      "1 1\n",
      "Case #1: 2\n",
      "2 3\n",
      "Case #2: 5\n",
      "3 4\n",
      "Case #3: 7\n",
      "9 8\n",
      "Case #4: 17\n",
      "5 2\n",
      "Case #5: 7\n"
     ]
    }
   ],
   "source": [
    "T=int(input())\n",
    "for i in range(T):\n",
    "    A,B=input().split()\n",
    "    A=int(A)\n",
    "    B=int(B)\n",
    "    if 0<A and A<10 and B>0 and B<10:\n",
    "        print('Case #%d: %d'%(i+1,A+B))"
   ]
  },
  {
   "cell_type": "markdown",
   "metadata": {},
   "source": [
    "### 11022\n",
    "문제\\\n",
    "두 정수 A와 B를 입력받은 다음, A+B를 출력하는 프로그램을 작성하시오.\n",
    "\n",
    "입력\\\n",
    "첫째 줄에 테스트 케이스의 개수 T가 주어진다.\n",
    "\n",
    "각 테스트 케이스는 한 줄로 이루어져 있으며, 각 줄에 A와 B가 주어진다. (0 < A, B < 10)\n",
    "\n",
    "출력\\\n",
    "각 테스트 케이스마다 \"Case #x: A + B = C\" 형식으로 출력한다. x는 테스트 케이스 번호이고 1부터 시작하며, C는 A+B이다."
   ]
  },
  {
   "cell_type": "code",
   "execution_count": 53,
   "metadata": {},
   "outputs": [
    {
     "name": "stdout",
     "output_type": "stream",
     "text": [
      "5\n",
      "1 1\n",
      "Case #1: 1 + 1 = 2\n",
      "2 3\n",
      "Case #2: 2 + 3 = 5\n",
      "3 4\n",
      "Case #3: 3 + 4 = 7\n",
      "9 8\n",
      "Case #4: 9 + 8 = 17\n",
      "5 2\n",
      "Case #5: 5 + 2 = 7\n"
     ]
    }
   ],
   "source": [
    "T=int(input())\n",
    "for i in range(T):\n",
    "    A,B=input().split()\n",
    "    A=int(A)\n",
    "    B=int(B)\n",
    "    if 0<A and A<10 and B>0 and B<10:\n",
    "        print('Case #%d: %d + %d = %d'%(i+1,A,B,A+B))"
   ]
  },
  {
   "cell_type": "markdown",
   "metadata": {},
   "source": [
    "### 11718\n",
    "문제\\\n",
    "입력 받은 대로 출력하는 프로그램을 작성하시오.\n",
    "\n",
    "입력\\\n",
    "입력이 주어진다. 입력은 최대 100줄로 이루어져 있고, 알파벳 소문자, 대문자, 공백, 숫자로만 이루어져 있다. 각 줄은 100글자를 넘지 않으며, 빈 줄은 주어지지 않는다. 또, 각 줄은 공백으로 시작하지 않고, 공백으로 끝나지 않는다.\n",
    "\n",
    "출력\\\n",
    "입력받은 그대로 출력한다.\n"
   ]
  },
  {
   "cell_type": "code",
   "execution_count": 85,
   "metadata": {},
   "outputs": [
    {
     "name": "stdout",
     "output_type": "stream",
     "text": [
      "Hello\n",
      "Hello\n",
      "Baekjoon\n",
      "Baekjoon\n",
      "Online Judge\n",
      "Online Judge\n",
      "\n"
     ]
    }
   ],
   "source": [
    "while True:\n",
    "    A=input()\n",
    "    if len(A)!=0:\n",
    "        print(A)\n",
    "    else:\n",
    "        break"
   ]
  },
  {
   "cell_type": "code",
   "execution_count": null,
   "metadata": {},
   "outputs": [],
   "source": [
    "#나랑 다른코드\n",
    "'''\n",
    "while True:\n",
    "    try:\n",
    "        print(input())\n",
    "    except:\n",
    "        break\n",
    "'''"
   ]
  },
  {
   "cell_type": "markdown",
   "metadata": {},
   "source": [
    "### 11720\n",
    "문제\n",
    "N개의 숫자가 공백 없이 쓰여있다. 이 숫자를 모두 합해서 출력하는 프로그램을 작성하시오.\n",
    "\n",
    "입력\n",
    "첫째 줄에 숫자의 개수 N (1 ≤ N ≤ 100)이 주어진다. 둘째 줄에 숫자 N개가 공백없이 주어진다.\n",
    "\n",
    "출력\n",
    "입력으로 주어진 숫자 N개의 합을 출력한다."
   ]
  },
  {
   "cell_type": "code",
   "execution_count": 96,
   "metadata": {},
   "outputs": [
    {
     "name": "stdout",
     "output_type": "stream",
     "text": [
      "5\n",
      "543\n"
     ]
    }
   ],
   "source": [
    "N=int(input())\n",
    "A=input()\n",
    "if len(A)==N:\n",
    "    s=0\n",
    "    for i in range(N):\n",
    "        s+=int(A[i])\n",
    "    print(s)"
   ]
  },
  {
   "cell_type": "markdown",
   "metadata": {},
   "source": [
    "### 11721\n",
    "문제\\\n",
    "알파벳 소문자와 대문자로만 이루어진 길이가 N인 단어가 주어진다.\n",
    "\n",
    "한 줄에 10글자씩 끊어서 출력하는 프로그램을 작성하시오.\n",
    "\n",
    "입력\\\n",
    "첫째 줄에 단어가 주어진다. 단어는 알파벳 소문자와 대문자로만 이루어져 있으며, 길이는 100을 넘지 않는다. 길이가 0인 단어는 주어지지 않는다.\n",
    "\n",
    "출력\\\n",
    "입력으로 주어진 단어를 열 개씩 끊어서 한 줄에 하나씩 출력한다. 단어의 길이가 10의 배수가 아닌 경우에는 마지막 줄에는 10개 미만의 글자만 출력할 수도 있다.\n"
   ]
  },
  {
   "cell_type": "code",
   "execution_count": 109,
   "metadata": {},
   "outputs": [
    {
     "name": "stdout",
     "output_type": "stream",
     "text": [
      "OneTwoThreeFourFiveSixSevenEightNineTen\n",
      "OneTwoThre\n",
      "eFourFiveS\n",
      "ixSevenEig\n",
      "htNineTen\n"
     ]
    }
   ],
   "source": [
    "A=input()\n",
    "for i in range(len(A)//10+1):\n",
    "    print(A[10*i:10*(i+1)])"
   ]
  },
  {
   "cell_type": "markdown",
   "metadata": {},
   "source": [
    "### 2741\n",
    "문제\\\n",
    "자연수 N이 주어졌을 때, 1부터 N까지 한 줄에 하나씩 출력하는 프로그램을 작성하시오.\n",
    "\n",
    "입력\\\n",
    "첫째 줄에 100,000보다 작거나 같은 자연수 N이 주어진다.\n",
    "\n",
    "출력\\\n",
    "첫째 줄부터 N번째 줄 까지 차례대로 출력한다."
   ]
  },
  {
   "cell_type": "code",
   "execution_count": 110,
   "metadata": {},
   "outputs": [
    {
     "name": "stdout",
     "output_type": "stream",
     "text": [
      "5\n",
      "1\n",
      "2\n",
      "3\n",
      "4\n",
      "5\n"
     ]
    }
   ],
   "source": [
    "N=int(input())\n",
    "for i in range(N):\n",
    "    print(i+1)"
   ]
  },
  {
   "cell_type": "markdown",
   "metadata": {},
   "source": [
    "### 2742\n",
    "문제\\\n",
    "자연수 N이 주어졌을 때, N부터 1까지 한 줄에 하나씩 출력하는 프로그램을 작성하시오.\n",
    "\n",
    "입력\\\n",
    "첫째 줄에 100,000보다 작거나 같은 자연수 N이 주어진다.\n",
    "\n",
    "출력\\\n",
    "첫째 줄부터 N번째 줄 까지 차례대로 출력한다."
   ]
  },
  {
   "cell_type": "code",
   "execution_count": 112,
   "metadata": {},
   "outputs": [
    {
     "name": "stdout",
     "output_type": "stream",
     "text": [
      "5\n",
      "5\n",
      "4\n",
      "3\n",
      "2\n",
      "1\n"
     ]
    }
   ],
   "source": [
    "N=int(input())\n",
    "for i in range(N,0,-1):\n",
    "    print(i)"
   ]
  }
 ],
 "metadata": {
  "kernelspec": {
   "display_name": "Python 3",
   "language": "python",
   "name": "python3"
  },
  "language_info": {
   "codemirror_mode": {
    "name": "ipython",
    "version": 3
   },
   "file_extension": ".py",
   "mimetype": "text/x-python",
   "name": "python",
   "nbconvert_exporter": "python",
   "pygments_lexer": "ipython3",
   "version": "3.8.3"
  }
 },
 "nbformat": 4,
 "nbformat_minor": 4
}
